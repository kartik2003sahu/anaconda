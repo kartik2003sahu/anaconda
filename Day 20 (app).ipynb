{
 "cells": [
  {
   "cell_type": "code",
   "execution_count": 2,
   "metadata": {},
   "outputs": [],
   "source": [
    "import pandas as pd\n",
    "import matplotlib.pyplot as pit\n",
    "import numpy as np\n",
    "import seaborn as sns\n",
    "import tkinter as ttk\n",
    "data=pd.read_csv('treadmil-users.csv')"
   ]
  },
  {
   "cell_type": "code",
   "execution_count": 10,
   "metadata": {},
   "outputs": [
    {
     "data": {
      "text/plain": [
       "''"
      ]
     },
     "execution_count": 10,
     "metadata": {},
     "output_type": "execute_result"
    }
   ],
   "source": [
    "app=ttk.Tk()\n",
    "app.geometry('600x300')\n",
    "app.title('Treadmil Users Analysis')\n",
    "\n",
    "\n",
    "\n",
    "\n"
   ]
  },
  {
   "cell_type": "code",
   "execution_count": 11,
   "metadata": {},
   "outputs": [],
   "source": [
    "graphs=ttk.Variable(app)\n",
    "values={'Data 1':'1','Data 2': '2'}\n",
    "graphs=ttk.Variable(app)\n",
    "values={\n",
    "    'Pair Plot':'sns.pairplot(data=data)',\n",
    "    'Jointplot':\"sns.jointplot(data,x='{col1}',y='{col2)')\",\n",
    "    'Bar Plot':\"sns.barplot(data=data, x='{col1}',y='{col2}')\"\n",
    "}\n",
    "graphs.set(values['Pair Plot'])\n",
    "y=10\n",
    "for key ,value in values.items():\n",
    "    ttk.Radiobutton(app, text=key ,variable=graphs ,value=value).\\\n",
    "        place(x=10,y=y)\n",
    "    y+=20\n",
    "\n",
    "    # option menu 1\n",
    "col1 = ttk.Variable(app)\n",
    "values=['Select','Product','Age','Gender']\n",
    "col1.set(values[0])\n",
    "ttk.Label(app,text='Column 1 ').place(x=100,y=10)\n",
    "ttk.OptionMenu(app,col1,*values).place(x=100,y=40)\n",
    "   \n",
    "    #option menu 2\n",
    "col2 = ttk.Variable(app)\n",
    "values=['Select','Product','Age','Gender']\n",
    "col1.set(values[0])\n",
    "ttk.Label(app,text='Column 2 ').place(x=150,y=80)\n",
    "ttk.OptionMenu(app,col2,*values).place(x=150,y=110)\n",
    "\n",
    "#option menu 3\n",
    "col3 = ttk.Variable(app)\n",
    "values=['Select','Product','Age','Gender']\n",
    "col1.set(values[0])\n",
    "ttk.Label(app,text='Column 3').place(x=150,y=150)\n",
    "ttk.OptionMenu(app,col3,*values).place(x=150,y=180)\n",
    "\n",
    "def show():\n",
    "    #print(graph.get())\n",
    "    print(col1.get())\n",
    "ttk.Button(app, text='Show',command=show).place(x=400,y=10)\n",
    "\n",
    "app.mainloop()\n",
    "\n"
   ]
  },
  {
   "cell_type": "code",
   "execution_count": null,
   "metadata": {},
   "outputs": [],
   "source": []
  },
  {
   "cell_type": "code",
   "execution_count": null,
   "metadata": {},
   "outputs": [],
   "source": []
  }
 ],
 "metadata": {
  "kernelspec": {
   "display_name": "Python 3.9.12 ('base')",
   "language": "python",
   "name": "python3"
  },
  "language_info": {
   "codemirror_mode": {
    "name": "ipython",
    "version": 3
   },
   "file_extension": ".py",
   "mimetype": "text/x-python",
   "name": "python",
   "nbconvert_exporter": "python",
   "pygments_lexer": "ipython3",
   "version": "3.9.12"
  },
  "orig_nbformat": 4,
  "vscode": {
   "interpreter": {
    "hash": "4af1e78d603f7d27cc60a9a5c8ae254cf839c35c66daa31c3a403b164618dcda"
   }
  }
 },
 "nbformat": 4,
 "nbformat_minor": 2
}
