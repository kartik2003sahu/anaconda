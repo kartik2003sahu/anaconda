{
 "cells": [
  {
   "cell_type": "markdown",
   "id": "a1c19f68-c06d-445f-9bf3-29f0b4ddf1eb",
   "metadata": {},
   "source": [
    "* first point of m.l.\n",
    "* second point"
   ]
  },
  {
   "cell_type": "markdown",
   "id": "d3a2badc-d6bd-426b-895b-7df7ebb2dcda",
   "metadata": {},
   "source": [
    "* first point\n",
    "* second point"
   ]
  },
  {
   "cell_type": "markdown",
   "id": "d8302748-8e5f-4726-8be0-79f48d2655d2",
   "metadata": {},
   "source": [
    "* first point\n",
    "* second point"
   ]
  },
  {
   "cell_type": "markdown",
   "id": "2f2b7717-8cd2-4869-9418-5ee70553165c",
   "metadata": {},
   "source": [
    "1. this is not good\n",
    "2. lets do it"
   ]
  },
  {
   "cell_type": "code",
   "execution_count": 4,
   "id": "27736d05-9971-46ed-af14-c6f9492b4e00",
   "metadata": {},
   "outputs": [],
   "source": [
    "import os\n"
   ]
  },
  {
   "cell_type": "code",
   "execution_count": 5,
   "id": "a665efdc-a6f7-45dc-81ec-fc2e3af1b96c",
   "metadata": {},
   "outputs": [
    {
     "data": {
      "text/plain": [
       "'C:\\\\Users\\\\hp\\\\Desktop\\\\anaconda'"
      ]
     },
     "execution_count": 5,
     "metadata": {},
     "output_type": "execute_result"
    }
   ],
   "source": [
    "os.getcwd()\n"
   ]
  },
  {
   "cell_type": "code",
   "execution_count": 39,
   "id": "887f4e7c-ccaa-4538-85a7-a7cdb422cb0f",
   "metadata": {},
   "outputs": [
    {
     "ename": "AttributeError",
     "evalue": "module 'os' has no attribute 'chidr'",
     "output_type": "error",
     "traceback": [
      "\u001b[1;31m---------------------------------------------------------------------------\u001b[0m",
      "\u001b[1;31mAttributeError\u001b[0m                            Traceback (most recent call last)",
      "Input \u001b[1;32mIn [39]\u001b[0m, in \u001b[0;36m<cell line: 1>\u001b[1;34m()\u001b[0m\n\u001b[1;32m----> 1\u001b[0m \u001b[43mos\u001b[49m\u001b[38;5;241;43m.\u001b[39;49m\u001b[43mchidr\u001b[49m(\u001b[38;5;124m'\u001b[39m\u001b[38;5;124mC:\u001b[39m\u001b[38;5;130;01m\\\\\u001b[39;00m\u001b[38;5;124mUsers\u001b[39m\u001b[38;5;130;01m\\\\\u001b[39;00m\u001b[38;5;124mhp\u001b[39m\u001b[38;5;130;01m\\\\\u001b[39;00m\u001b[38;5;124mDesktop\u001b[39m\u001b[38;5;130;01m\\\\\u001b[39;00m\u001b[38;5;124manaconda\u001b[39m\u001b[38;5;124m'\u001b[39m)\n",
      "\u001b[1;31mAttributeError\u001b[0m: module 'os' has no attribute 'chidr'"
     ]
    }
   ],
   "source": [
    "os.chidr('C:\\\\Users\\\\hp\\\\Desktop\\\\anaconda')\n"
   ]
  },
  {
   "cell_type": "markdown",
   "id": "e716992e-bafd-48fc-b3c6-564889bba488",
   "metadata": {},
   "source": [
    "os.getcwd()\n"
   ]
  },
  {
   "cell_type": "code",
   "execution_count": 8,
   "id": "69428bbd-9c3b-4f17-ad12-a5790bfd1ec2",
   "metadata": {},
   "outputs": [
    {
     "ename": "AttributeError",
     "evalue": "module 'os' has no attribute 'chidr'",
     "output_type": "error",
     "traceback": [
      "\u001b[1;31m---------------------------------------------------------------------------\u001b[0m",
      "\u001b[1;31mAttributeError\u001b[0m                            Traceback (most recent call last)",
      "Input \u001b[1;32mIn [8]\u001b[0m, in \u001b[0;36m<cell line: 1>\u001b[1;34m()\u001b[0m\n\u001b[1;32m----> 1\u001b[0m \u001b[43mos\u001b[49m\u001b[38;5;241;43m.\u001b[39;49m\u001b[43mchidr\u001b[49m(\u001b[38;5;124m'\u001b[39m\u001b[38;5;124mC:\u001b[39m\u001b[38;5;130;01m\\\\\u001b[39;00m\u001b[38;5;124mUsers\u001b[39m\u001b[38;5;130;01m\\\\\u001b[39;00m\u001b[38;5;124mhp\u001b[39m\u001b[38;5;130;01m\\\\\u001b[39;00m\u001b[38;5;124mDesktop\u001b[39m\u001b[38;5;124m'\u001b[39m)\n",
      "\u001b[1;31mAttributeError\u001b[0m: module 'os' has no attribute 'chidr'"
     ]
    }
   ],
   "source": [
    "os.chidr('C:\\\\Users\\\\hp\\\\Desktop')\n",
    "\n"
   ]
  },
  {
   "cell_type": "code",
   "execution_count": 9,
   "id": "6c06b487-bfac-4431-af6c-5701fa401756",
   "metadata": {},
   "outputs": [
    {
     "data": {
      "text/plain": [
       "'C:\\\\Users\\\\hp\\\\Desktop\\\\anaconda'"
      ]
     },
     "execution_count": 9,
     "metadata": {},
     "output_type": "execute_result"
    }
   ],
   "source": [
    "os.getcwd()\n"
   ]
  },
  {
   "cell_type": "markdown",
   "id": "b3c57c3e-8420-4d3b-8fcb-64882deeb4c4",
   "metadata": {},
   "source": [
    "os.listdirC:User('s\\\\hp\\\\Desktop\\\\M.L. Training')\n"
   ]
  },
  {
   "cell_type": "markdown",
   "id": "8ae03c77-35b6-47c8-b1c7-5f4ce4b1f9d2",
   "metadata": {},
   "source": [
    "os.mkdir('Empty_folder')\n"
   ]
  },
  {
   "cell_type": "markdown",
   "id": "6c3a034f-5111-41d4-a634-8af42731b911",
   "metadata": {},
   "source": [
    "os.rmdir('Empty_folder')"
   ]
  },
  {
   "cell_type": "markdown",
   "id": "2cd8b297-1df0-4a48-9921-1cd30402eebc",
   "metadata": {},
   "source": [
    "os.getcwd()"
   ]
  },
  {
   "cell_type": "code",
   "execution_count": 14,
   "id": "e24b89a1-27c2-44fd-ba62-f4fd8d84a8fb",
   "metadata": {},
   "outputs": [
    {
     "data": {
      "text/plain": [
       "'C:\\\\Users\\\\hp\\\\Desktop\\\\anaconda'"
      ]
     },
     "execution_count": 14,
     "metadata": {},
     "output_type": "execute_result"
    }
   ],
   "source": [
    "os.getcwd()"
   ]
  },
  {
   "cell_type": "code",
   "execution_count": 15,
   "id": "1343c24e-43dd-4ba0-bf0f-49792ddbf60a",
   "metadata": {},
   "outputs": [],
   "source": [
    "import random"
   ]
  },
  {
   "cell_type": "code",
   "execution_count": 16,
   "id": "8b84ecd8-c741-4185-bb97-9b3be1a95d4c",
   "metadata": {},
   "outputs": [
    {
     "name": "stdout",
     "output_type": "stream",
     "text": [
      "0.5587342292236048\n"
     ]
    }
   ],
   "source": [
    "val=random.random()\n",
    "print(val)"
   ]
  },
  {
   "cell_type": "code",
   "execution_count": 17,
   "id": "46bc96aa-6119-4dc1-ae65-5f5a9001fe7d",
   "metadata": {},
   "outputs": [
    {
     "name": "stdout",
     "output_type": "stream",
     "text": [
      "0.0191401580871422\n"
     ]
    }
   ],
   "source": [
    "int =random.random()\n",
    "print(int)"
   ]
  },
  {
   "cell_type": "code",
   "execution_count": 19,
   "id": "6e2dc7aa-3156-46bc-bc05-9a60c72906e6",
   "metadata": {},
   "outputs": [
    {
     "name": "stdout",
     "output_type": "stream",
     "text": [
      "4\n"
     ]
    }
   ],
   "source": [
    "hi=random.randint(4,9)\n",
    "print(hi)"
   ]
  },
  {
   "cell_type": "code",
   "execution_count": null,
   "id": "2d73be9e-9dbd-4c5d-8167-7c72d62d1fd1",
   "metadata": {},
   "outputs": [],
   "source": []
  },
  {
   "cell_type": "code",
   "execution_count": 20,
   "id": "d46757bc-6575-479a-9003-0395d04b1634",
   "metadata": {},
   "outputs": [
    {
     "name": "stdout",
     "output_type": "stream",
     "text": [
      "8\n"
     ]
    }
   ],
   "source": [
    "hi=random.randint(4,8)\n",
    "print(hi)\n"
   ]
  },
  {
   "cell_type": "code",
   "execution_count": 35,
   "id": "cbd263ca-f1e4-4854-bdc6-428b0be1a078",
   "metadata": {},
   "outputs": [
    {
     "name": "stdout",
     "output_type": "stream",
     "text": [
      "['hi', 'hureeeee', 'khikhi']\n"
     ]
    }
   ],
   "source": [
    "kalu=['hi','meow','khikhi','hureeeee']\n",
    "val=random.choices(kalu,k=3)\n",
    "print(val)"
   ]
  },
  {
   "cell_type": "code",
   "execution_count": 36,
   "id": "652ffbad-64ee-497c-aa62-914c2010ab8d",
   "metadata": {},
   "outputs": [
    {
     "name": "stdout",
     "output_type": "stream",
     "text": [
      "['hi', 'hureeeee', 'meow', 'khikhi']\n"
     ]
    }
   ],
   "source": [
    "#shuffle\n",
    "random.shuffle(kalu)\n",
    "print(kalu)"
   ]
  },
  {
   "cell_type": "code",
   "execution_count": 37,
   "id": "ef857807-c420-4c1c-baf7-b2bb4ce58aa9",
   "metadata": {},
   "outputs": [],
   "source": [
    "import numpy\n"
   ]
  },
  {
   "cell_type": "code",
   "execution_count": null,
   "id": "4577e5e2-5b2c-41a5-b37b-1a4be8f31ff4",
   "metadata": {},
   "outputs": [],
   "source": []
  }
 ],
 "metadata": {
  "kernelspec": {
   "display_name": "Python 3 (ipykernel)",
   "language": "python",
   "name": "python3"
  },
  "language_info": {
   "codemirror_mode": {
    "name": "ipython",
    "version": 3
   },
   "file_extension": ".py",
   "mimetype": "text/x-python",
   "name": "python",
   "nbconvert_exporter": "python",
   "pygments_lexer": "ipython3",
   "version": "3.9.12"
  }
 },
 "nbformat": 4,
 "nbformat_minor": 5
}
